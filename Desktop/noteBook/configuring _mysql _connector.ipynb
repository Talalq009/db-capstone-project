{
 "cells": [
  {
   "cell_type": "code",
   "execution_count": 43,
   "id": "1b033488-efac-43d4-b9b4-590261d076e6",
   "metadata": {},
   "outputs": [],
   "source": [
    "import mysql.connector as connector"
   ]
  },
  {
   "cell_type": "code",
   "execution_count": 44,
   "id": "7f86e3bf-f29a-49b2-baf6-4f7bc79b2486",
   "metadata": {},
   "outputs": [],
   "source": [
    "connection = connector.connect(user = \"little_lemon_admin\", password = \"Ll123456\", db=\"little_lemon_db\")"
   ]
  },
  {
   "cell_type": "code",
   "execution_count": 45,
   "id": "dc6487f2-7ed6-45fe-82e8-e6a2849ce870",
   "metadata": {},
   "outputs": [],
   "source": [
    "cursor = connection.cursor()"
   ]
  },
  {
   "cell_type": "code",
   "execution_count": 46,
   "id": "77940ca6-f5e4-4723-bad7-6dc3c1c76267",
   "metadata": {},
   "outputs": [],
   "source": [
    "cursor.execute(\"show tables\")"
   ]
  },
  {
   "cell_type": "code",
   "execution_count": 47,
   "id": "49f1631e-6bae-4637-938f-2cac5347a37a",
   "metadata": {},
   "outputs": [
    {
     "name": "stdout",
     "output_type": "stream",
     "text": [
      "('bookings',)\n",
      "('customers',)\n",
      "('employees',)\n",
      "('menuitems',)\n",
      "('menus',)\n",
      "('orders',)\n",
      "('ordersview',)\n"
     ]
    }
   ],
   "source": [
    "for i in cursor.fetchall():\n",
    "    print(i)"
   ]
  },
  {
   "cell_type": "code",
   "execution_count": 59,
   "id": "f2ed3c8c-5661-4847-86ea-77adff6ecde1",
   "metadata": {},
   "outputs": [],
   "source": [
    "cursor.execute(\"\"\"select concat(c.First_Name, \" \", c.Last_Name) as \"Full Name\", c.ContactNo as \"ContactNo\" from customers c\n",
    "join orders o\n",
    "join bookings b\n",
    "on o.BookingID = b.BookingID and b.Customer_ID = c.Customer_ID\n",
    "where o.Cost > 60;\"\"\")"
   ]
  },
  {
   "cell_type": "code",
   "execution_count": 60,
   "id": "05ce396f-c01e-4c7e-9418-9d83a28573ae",
   "metadata": {},
   "outputs": [
    {
     "name": "stdout",
     "output_type": "stream",
     "text": [
      "('Anna Iversen', '351786345')\n",
      "('Joakim Iversen', '351486345')\n"
     ]
    }
   ],
   "source": [
    "for i in cursor.fetchall():\n",
    "    print(i)"
   ]
  },
  {
   "cell_type": "code",
   "execution_count": null,
   "id": "4af2eba7-3539-4d0d-896c-6914b6a37f87",
   "metadata": {},
   "outputs": [],
   "source": []
  }
 ],
 "metadata": {
  "kernelspec": {
   "display_name": "Python 3 (ipykernel)",
   "language": "python",
   "name": "python3"
  },
  "language_info": {
   "codemirror_mode": {
    "name": "ipython",
    "version": 3
   },
   "file_extension": ".py",
   "mimetype": "text/x-python",
   "name": "python",
   "nbconvert_exporter": "python",
   "pygments_lexer": "ipython3",
   "version": "3.12.0"
  }
 },
 "nbformat": 4,
 "nbformat_minor": 5
}
